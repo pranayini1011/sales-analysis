{
 "cells": [
  {
   "cell_type": "markdown",
   "id": "b83b0ce9",
   "metadata": {},
   "source": [
    "# Sales Analysis Project\n",
    "\n",
    "**Goal:** Analyze sales data to identify trends, track performance, and support business decisions.\n",
    "\n",
    "**Datasets:**\n",
    "- `customers.csv`\n",
    "- `products.csv`\n",
    "- `orders.csv`\n",
    "- `order_items.csv`\n",
    "\n",
    "We will use SQL queries on an SQLite database containing the sales data to extract insights and answer key business questions."
   ]
  },
  {
   "cell_type": "code",
   "execution_count": null,
   "id": "7ba5c061",
   "metadata": {},
   "outputs": [],
   "source": [
    "import sqlite3\n",
    "import pandas as pd\n",
    "import matplotlib.pyplot as plt"
   ]
  },
  {
   "cell_type": "code",
   "execution_count": null,
   "id": "7c4e8433",
   "metadata": {},
   "outputs": [],
   "source": [
    "conn = sqlite3.connect('../sales.db')  # ../ goes one folder up"
   ]
  },
  {
   "cell_type": "code",
   "execution_count": null,
   "id": "ab738ec2",
   "metadata": {},
   "outputs": [
    {
     "data": {
      "text/plain": [
       "(   customer_id region signup_date\n",
       " 0            1  North  2024-01-10\n",
       " 1            2  South  2024-02-15\n",
       " 2            3   East  2024-02-20\n",
       " 3            4   West  2024-03-01,\n",
       "    product_id product_name     category\n",
       " 0         101       Laptop  Electronics\n",
       " 1         102        Phone  Electronics\n",
       " 2         103        Shirt     Clothing\n",
       " 3         104        Shoes     Clothing,\n",
       "    order_id  customer_id  order_date\n",
       " 0      1001            1  2024-02-01\n",
       " 1      1002            2  2024-02-03\n",
       " 2      1003            3  2024-03-05\n",
       " 3      1004            1  2024-03-20,\n",
       "    order_item_id  order_id  product_id  quantity  unit_price\n",
       " 0              1      1001         101         1         500\n",
       " 1              2      1001         103         2          20\n",
       " 2              3      1002         102         1         300\n",
       " 3              4      1003         104         3          50\n",
       " 4              5      1004         101         1         500)"
      ]
     },
     "execution_count": 5,
     "metadata": {},
     "output_type": "execute_result"
    }
   ],
   "source": [
    "# Load data from tables into pandas DataFrames\n",
    "\n",
    "customers_df = pd.read_sql_query(\"SELECT * FROM customers;\", conn)\n",
    "products_df = pd.read_sql_query(\"SELECT * FROM products;\", conn)\n",
    "orders_df = pd.read_sql_query(\"SELECT * FROM orders;\", conn)\n",
    "order_items_df = pd.read_sql_query(\"SELECT * FROM order_items;\", conn)\n",
    "\n",
    "# Show the first few rows of each table\n",
    "customers_df.head(), products_df.head(), orders_df.head(), order_items_df.head()"
   ]
  },
  {
   "cell_type": "code",
   "execution_count": null,
   "id": "2c65fa31",
   "metadata": {},
   "outputs": [
    {
     "name": "stdout",
     "output_type": "stream",
     "text": [
      "=== Customers ===\n",
      "<class 'pandas.core.frame.DataFrame'>\n",
      "RangeIndex: 4 entries, 0 to 3\n",
      "Data columns (total 3 columns):\n",
      " #   Column       Non-Null Count  Dtype \n",
      "---  ------       --------------  ----- \n",
      " 0   customer_id  4 non-null      int64 \n",
      " 1   region       4 non-null      object\n",
      " 2   signup_date  4 non-null      object\n",
      "dtypes: int64(1), object(2)\n",
      "memory usage: 228.0+ bytes\n",
      "None\n",
      "customer_id    0\n",
      "region         0\n",
      "signup_date    0\n",
      "dtype: int64\n",
      "        customer_id region signup_date\n",
      "count      4.000000      4           4\n",
      "unique          NaN      4           4\n",
      "top             NaN  North  2024-01-10\n",
      "freq            NaN      1           1\n",
      "mean       2.500000    NaN         NaN\n",
      "std        1.290994    NaN         NaN\n",
      "min        1.000000    NaN         NaN\n",
      "25%        1.750000    NaN         NaN\n",
      "50%        2.500000    NaN         NaN\n",
      "75%        3.250000    NaN         NaN\n",
      "max        4.000000    NaN         NaN\n",
      "\n",
      "=== Products ===\n",
      "<class 'pandas.core.frame.DataFrame'>\n",
      "RangeIndex: 4 entries, 0 to 3\n",
      "Data columns (total 3 columns):\n",
      " #   Column        Non-Null Count  Dtype \n",
      "---  ------        --------------  ----- \n",
      " 0   product_id    4 non-null      int64 \n",
      " 1   product_name  4 non-null      object\n",
      " 2   category      4 non-null      object\n",
      "dtypes: int64(1), object(2)\n",
      "memory usage: 228.0+ bytes\n",
      "None\n",
      "product_id      0\n",
      "product_name    0\n",
      "category        0\n",
      "dtype: int64\n",
      "        product_id product_name     category\n",
      "count     4.000000            4            4\n",
      "unique         NaN            4            2\n",
      "top            NaN       Laptop  Electronics\n",
      "freq           NaN            1            2\n",
      "mean    102.500000          NaN          NaN\n",
      "std       1.290994          NaN          NaN\n",
      "min     101.000000          NaN          NaN\n",
      "25%     101.750000          NaN          NaN\n",
      "50%     102.500000          NaN          NaN\n",
      "75%     103.250000          NaN          NaN\n",
      "max     104.000000          NaN          NaN\n",
      "\n",
      "=== Orders ===\n",
      "<class 'pandas.core.frame.DataFrame'>\n",
      "RangeIndex: 4 entries, 0 to 3\n",
      "Data columns (total 3 columns):\n",
      " #   Column       Non-Null Count  Dtype \n",
      "---  ------       --------------  ----- \n",
      " 0   order_id     4 non-null      int64 \n",
      " 1   customer_id  4 non-null      int64 \n",
      " 2   order_date   4 non-null      object\n",
      "dtypes: int64(2), object(1)\n",
      "memory usage: 228.0+ bytes\n",
      "None\n",
      "order_id       0\n",
      "customer_id    0\n",
      "order_date     0\n",
      "dtype: int64\n",
      "           order_id  customer_id  order_date\n",
      "count      4.000000     4.000000           4\n",
      "unique          NaN          NaN           4\n",
      "top             NaN          NaN  2024-02-01\n",
      "freq            NaN          NaN           1\n",
      "mean    1002.500000     1.750000         NaN\n",
      "std        1.290994     0.957427         NaN\n",
      "min     1001.000000     1.000000         NaN\n",
      "25%     1001.750000     1.000000         NaN\n",
      "50%     1002.500000     1.500000         NaN\n",
      "75%     1003.250000     2.250000         NaN\n",
      "max     1004.000000     3.000000         NaN\n",
      "\n",
      "=== Order Items ===\n",
      "<class 'pandas.core.frame.DataFrame'>\n",
      "RangeIndex: 5 entries, 0 to 4\n",
      "Data columns (total 5 columns):\n",
      " #   Column         Non-Null Count  Dtype\n",
      "---  ------         --------------  -----\n",
      " 0   order_item_id  5 non-null      int64\n",
      " 1   order_id       5 non-null      int64\n",
      " 2   product_id     5 non-null      int64\n",
      " 3   quantity       5 non-null      int64\n",
      " 4   unit_price     5 non-null      int64\n",
      "dtypes: int64(5)\n",
      "memory usage: 332.0 bytes\n",
      "None\n",
      "order_item_id    0\n",
      "order_id         0\n",
      "product_id       0\n",
      "quantity         0\n",
      "unit_price       0\n",
      "dtype: int64\n",
      "       order_item_id    order_id  product_id  quantity  unit_price\n",
      "count       5.000000     5.00000     5.00000  5.000000    5.000000\n",
      "mean        3.000000  1002.20000   102.20000  1.600000  274.000000\n",
      "std         1.581139     1.30384     1.30384  0.894427  233.195197\n",
      "min         1.000000  1001.00000   101.00000  1.000000   20.000000\n",
      "25%         2.000000  1001.00000   101.00000  1.000000   50.000000\n",
      "50%         3.000000  1002.00000   102.00000  1.000000  300.000000\n",
      "75%         4.000000  1003.00000   103.00000  2.000000  500.000000\n",
      "max         5.000000  1004.00000   104.00000  3.000000  500.000000\n"
     ]
    }
   ],
   "source": [
    "# Check basic info about each table\n",
    "\n",
    "print(\"=== Customers ===\")\n",
    "print(customers_df.info())\n",
    "print(customers_df.isnull().sum())\n",
    "print(customers_df.describe(include='all'))\n",
    "\n",
    "print(\"\\n=== Products ===\")\n",
    "print(products_df.info())\n",
    "print(products_df.isnull().sum())\n",
    "print(products_df.describe(include='all'))\n",
    "\n",
    "print(\"\\n=== Orders ===\")\n",
    "print(orders_df.info())\n",
    "print(orders_df.isnull().sum())\n",
    "print(orders_df.describe(include='all'))\n",
    "\n",
    "print(\"\\n=== Order Items ===\")\n",
    "print(order_items_df.info())\n",
    "print(order_items_df.isnull().sum())\n",
    "print(order_items_df.describe(include='all'))"
   ]
  },
  {
   "cell_type": "markdown",
   "id": "8d0bfeac",
   "metadata": {},
   "source": [
    "## Total Revenue by Product\n",
    "\n",
    "We calculate how much money each product generated (quantity × price)."
   ]
  },
  {
   "cell_type": "code",
   "execution_count": 8,
   "id": "79854cfe",
   "metadata": {},
   "outputs": [
    {
     "data": {
      "text/html": [
       "<div>\n",
       "<style scoped>\n",
       "    .dataframe tbody tr th:only-of-type {\n",
       "        vertical-align: middle;\n",
       "    }\n",
       "\n",
       "    .dataframe tbody tr th {\n",
       "        vertical-align: top;\n",
       "    }\n",
       "\n",
       "    .dataframe thead th {\n",
       "        text-align: right;\n",
       "    }\n",
       "</style>\n",
       "<table border=\"1\" class=\"dataframe\">\n",
       "  <thead>\n",
       "    <tr style=\"text-align: right;\">\n",
       "      <th></th>\n",
       "      <th>product_name</th>\n",
       "      <th>revenue</th>\n",
       "    </tr>\n",
       "  </thead>\n",
       "  <tbody>\n",
       "    <tr>\n",
       "      <th>0</th>\n",
       "      <td>Laptop</td>\n",
       "      <td>1000</td>\n",
       "    </tr>\n",
       "    <tr>\n",
       "      <th>1</th>\n",
       "      <td>Phone</td>\n",
       "      <td>300</td>\n",
       "    </tr>\n",
       "    <tr>\n",
       "      <th>2</th>\n",
       "      <td>Shoes</td>\n",
       "      <td>150</td>\n",
       "    </tr>\n",
       "    <tr>\n",
       "      <th>3</th>\n",
       "      <td>Shirt</td>\n",
       "      <td>40</td>\n",
       "    </tr>\n",
       "  </tbody>\n",
       "</table>\n",
       "</div>"
      ],
      "text/plain": [
       "  product_name  revenue\n",
       "0       Laptop     1000\n",
       "1        Phone      300\n",
       "2        Shoes      150\n",
       "3        Shirt       40"
      ]
     },
     "execution_count": 8,
     "metadata": {},
     "output_type": "execute_result"
    }
   ],
   "source": [
    "total_revenue_by_product = pd.read_sql_query(\"\"\"\n",
    "    SELECT \n",
    "        p.product_name,\n",
    "        SUM(oi.quantity * oi.unit_price) AS revenue\n",
    "    FROM order_items AS oi\n",
    "    JOIN products AS p \n",
    "        ON oi.product_id = p.product_id\n",
    "    GROUP BY p.product_name\n",
    "    ORDER BY revenue DESC;\n",
    "\"\"\", conn)\n",
    "\n",
    "total_revenue_by_product\n"
   ]
  },
  {
   "cell_type": "markdown",
   "id": "9dbd859d",
   "metadata": {},
   "source": [
    "## Average Order Value (AOV)\n",
    "\n",
    "We calculate how much customers spend on average per order."
   ]
  },
  {
   "cell_type": "code",
   "execution_count": null,
   "id": "7534fb02",
   "metadata": {},
   "outputs": [
    {
     "data": {
      "text/html": [
       "<div>\n",
       "<style scoped>\n",
       "    .dataframe tbody tr th:only-of-type {\n",
       "        vertical-align: middle;\n",
       "    }\n",
       "\n",
       "    .dataframe tbody tr th {\n",
       "        vertical-align: top;\n",
       "    }\n",
       "\n",
       "    .dataframe thead th {\n",
       "        text-align: right;\n",
       "    }\n",
       "</style>\n",
       "<table border=\"1\" class=\"dataframe\">\n",
       "  <thead>\n",
       "    <tr style=\"text-align: right;\">\n",
       "      <th></th>\n",
       "      <th>average_order_value</th>\n",
       "    </tr>\n",
       "  </thead>\n",
       "  <tbody>\n",
       "    <tr>\n",
       "      <th>0</th>\n",
       "      <td>372.5</td>\n",
       "    </tr>\n",
       "  </tbody>\n",
       "</table>\n",
       "</div>"
      ],
      "text/plain": [
       "   average_order_value\n",
       "0                372.5"
      ]
     },
     "execution_count": 9,
     "metadata": {},
     "output_type": "execute_result"
    }
   ],
   "source": [
    "average_order_value = pd.read_sql_query(\"\"\"\n",
    "    SELECT \n",
    "        AVG(order_total) AS average_order_value\n",
    "    FROM (\n",
    "        SELECT \n",
    "            order_id, \n",
    "            SUM(quantity * unit_price) AS order_total\n",
    "        FROM order_items\n",
    "        GROUP BY order_id\n",
    "    );\n",
    "\"\"\", conn)\n",
    "\n",
    "average_order_value\n",
    "average_order_value = pd.read_sql_query(\"\"\"\n",
    "    SELECT \n",
    "        AVG(order_total) AS average_order_value\n",
    "    FROM (\n",
    "        SELECT \n",
    "            order_id, \n",
    "            SUM(quantity * unit_price) AS order_total\n",
    "        FROM order_items\n",
    "        GROUP BY order_id\n",
    "    );\n",
    "\"\"\", conn)\n",
    "\n",
    "average_order_value"
   ]
  },
  {
   "cell_type": "markdown",
   "id": "fd0d2ddf",
   "metadata": {},
   "source": [
    "## Monthly Revenue\n",
    "\n",
    "We calculate how much revenue is generated each month."
   ]
  },
  {
   "cell_type": "code",
   "execution_count": null,
   "id": "c80a8372",
   "metadata": {},
   "outputs": [
    {
     "data": {
      "text/html": [
       "<div>\n",
       "<style scoped>\n",
       "    .dataframe tbody tr th:only-of-type {\n",
       "        vertical-align: middle;\n",
       "    }\n",
       "\n",
       "    .dataframe tbody tr th {\n",
       "        vertical-align: top;\n",
       "    }\n",
       "\n",
       "    .dataframe thead th {\n",
       "        text-align: right;\n",
       "    }\n",
       "</style>\n",
       "<table border=\"1\" class=\"dataframe\">\n",
       "  <thead>\n",
       "    <tr style=\"text-align: right;\">\n",
       "      <th></th>\n",
       "      <th>month</th>\n",
       "      <th>revenue</th>\n",
       "    </tr>\n",
       "  </thead>\n",
       "  <tbody>\n",
       "    <tr>\n",
       "      <th>0</th>\n",
       "      <td>2024-02</td>\n",
       "      <td>840</td>\n",
       "    </tr>\n",
       "    <tr>\n",
       "      <th>1</th>\n",
       "      <td>2024-03</td>\n",
       "      <td>650</td>\n",
       "    </tr>\n",
       "  </tbody>\n",
       "</table>\n",
       "</div>"
      ],
      "text/plain": [
       "     month  revenue\n",
       "0  2024-02      840\n",
       "1  2024-03      650"
      ]
     },
     "execution_count": 10,
     "metadata": {},
     "output_type": "execute_result"
    }
   ],
   "source": [
    "monthly_revenue = pd.read_sql_query(\"\"\"\n",
    "    SELECT \n",
    "        SUBSTR(o.order_date, 1, 7) AS month,  -- YYYY-MM\n",
    "        SUM(oi.quantity * oi.unit_price) AS revenue\n",
    "    FROM orders AS o\n",
    "    JOIN order_items AS oi \n",
    "        ON o.order_id = oi.order_id\n",
    "    GROUP BY month\n",
    "    ORDER BY month;\n",
    "\"\"\", conn)\n",
    "\n",
    "monthly_revenue"
   ]
  },
  {
   "cell_type": "markdown",
   "id": "e510a859",
   "metadata": {},
   "source": [
    "## Revenue by Region\n",
    "\n",
    "We calculate which customer regions generate the most revenue."
   ]
  },
  {
   "cell_type": "code",
   "execution_count": null,
   "id": "4fefcfa6",
   "metadata": {},
   "outputs": [
    {
     "data": {
      "text/html": [
       "<div>\n",
       "<style scoped>\n",
       "    .dataframe tbody tr th:only-of-type {\n",
       "        vertical-align: middle;\n",
       "    }\n",
       "\n",
       "    .dataframe tbody tr th {\n",
       "        vertical-align: top;\n",
       "    }\n",
       "\n",
       "    .dataframe thead th {\n",
       "        text-align: right;\n",
       "    }\n",
       "</style>\n",
       "<table border=\"1\" class=\"dataframe\">\n",
       "  <thead>\n",
       "    <tr style=\"text-align: right;\">\n",
       "      <th></th>\n",
       "      <th>region</th>\n",
       "      <th>revenue</th>\n",
       "    </tr>\n",
       "  </thead>\n",
       "  <tbody>\n",
       "    <tr>\n",
       "      <th>0</th>\n",
       "      <td>North</td>\n",
       "      <td>1040</td>\n",
       "    </tr>\n",
       "    <tr>\n",
       "      <th>1</th>\n",
       "      <td>South</td>\n",
       "      <td>300</td>\n",
       "    </tr>\n",
       "    <tr>\n",
       "      <th>2</th>\n",
       "      <td>East</td>\n",
       "      <td>150</td>\n",
       "    </tr>\n",
       "  </tbody>\n",
       "</table>\n",
       "</div>"
      ],
      "text/plain": [
       "  region  revenue\n",
       "0  North     1040\n",
       "1  South      300\n",
       "2   East      150"
      ]
     },
     "execution_count": 11,
     "metadata": {},
     "output_type": "execute_result"
    }
   ],
   "source": [
    "revenue_by_region = pd.read_sql_query(\"\"\"\n",
    "    SELECT \n",
    "        c.region,\n",
    "        SUM(oi.quantity * oi.unit_price) AS revenue\n",
    "    FROM orders AS o\n",
    "    JOIN order_items AS oi \n",
    "        ON o.order_id = oi.order_id\n",
    "    JOIN customers AS c \n",
    "        ON o.customer_id = c.customer_id\n",
    "    GROUP BY c.region\n",
    "    ORDER BY revenue DESC;\n",
    "\"\"\", conn)\n",
    "\n",
    "revenue_by_region"
   ]
  },
  {
   "cell_type": "markdown",
   "id": "e105df5d",
   "metadata": {},
   "source": [
    "## Total Revenue by Product\n",
    "This chart shows the revenue earned by each product.  \n",
    "It helps identify which products bring the highest sales."
   ]
  },
  {
   "cell_type": "code",
   "execution_count": null,
   "id": "7b6d19ef",
   "metadata": {},
   "outputs": [
    {
     "data": {
      "image/png": "[encoded data removed]",
      "text/plain": [
       "<Figure size 1000x600 with 1 Axes>"
      ]
     },
     "metadata": {},
     "output_type": "display_data"
    }
   ],
   "source": [
    "plt.figure(figsize=(10,6))\n",
    "plt.bar(total_revenue_by_product['product_name'], total_revenue_by_product['revenue'])\n",
    "plt.title('Total Revenue by Product')\n",
    "plt.xticks(rotation=45)\n",
    "plt.ylabel('Revenue')\n",
    "plt.tight_layout()\n",
    "plt.show()"
   ]
  },
  {
   "cell_type": "markdown",
   "id": "9dc9b960",
   "metadata": {},
   "source": [
    "## Monthly Revenue Trend\n",
    "This line chart shows how revenue changes month by month.  \n",
    "It reveals seasonal trends and overall growth."
   ]
  },
  {
   "cell_type": "code",
   "execution_count": null,
   "id": "8a8dd930",
   "metadata": {},
   "outputs": [
    {
     "data": {
      "image/png": "[encoded data removed]",
      "text/plain": [
       "<Figure size 1000x600 with 1 Axes>"
      ]
     },
     "metadata": {},
     "output_type": "display_data"
    }
   ],
   "source": [
    "plt.figure(figsize=(10,6))\n",
    "plt.plot(monthly_revenue['month'], monthly_revenue['revenue'], marker='o')\n",
    "plt.title('Monthly Revenue Trend')\n",
    "plt.xticks(rotation=45)\n",
    "plt.ylabel('Revenue')\n",
    "plt.tight_layout()\n",
    "plt.show()"
   ]
  },
  {
   "cell_type": "markdown",
   "id": "7e7ecfe8",
   "metadata": {},
   "source": [
    "## Revenue by Region\n",
    "This bar chart shows which regions contribute the most revenue.  \n",
    "It helps compare regional performance."
   ]
  },
  {
   "cell_type": "code",
   "execution_count": null,
   "id": "bed1ff5b",
   "metadata": {},
   "outputs": [
    {
     "data": {
      "image/png": "[encoded data removed]",
      "text/plain": [
       "<Figure size 800x600 with 1 Axes>"
      ]
     },
     "metadata": {},
     "output_type": "display_data"
    }
   ],
   "source": [
    "plt.figure(figsize=(8,6))\n",
    "plt.bar(revenue_by_region['region'], revenue_by_region['revenue'])\n",
    "plt.title('Revenue by Region')\n",
    "plt.xticks(rotation=45)\n",
    "plt.ylabel('Revenue')\n",
    "plt.tight_layout()\n",
    "plt.show()"
   ]
  },
  {
   "cell_type": "markdown",
   "id": "368f62ea",
   "metadata": {},
   "source": [
    "## Average Order Value (AOV)\n",
    "This number shows how much customers spend on average per order."
   ]
  },
  {
   "cell_type": "code",
   "execution_count": null,
   "id": "348021f1",
   "metadata": {},
   "outputs": [
    {
     "data": {
      "text/html": [
       "<div>\n",
       "<style scoped>\n",
       "    .dataframe tbody tr th:only-of-type {\n",
       "        vertical-align: middle;\n",
       "    }\n",
       "\n",
       "    .dataframe tbody tr th {\n",
       "        vertical-align: top;\n",
       "    }\n",
       "\n",
       "    .dataframe thead th {\n",
       "        text-align: right;\n",
       "    }\n",
       "</style>\n",
       "<table border=\"1\" class=\"dataframe\">\n",
       "  <thead>\n",
       "    <tr style=\"text-align: right;\">\n",
       "      <th></th>\n",
       "      <th>average_order_value</th>\n",
       "    </tr>\n",
       "  </thead>\n",
       "  <tbody>\n",
       "    <tr>\n",
       "      <th>0</th>\n",
       "      <td>372.5</td>\n",
       "    </tr>\n",
       "  </tbody>\n",
       "</table>\n",
       "</div>"
      ],
      "text/plain": [
       "   average_order_value\n",
       "0                372.5"
      ]
     },
     "execution_count": 15,
     "metadata": {},
     "output_type": "execute_result"
    }
   ],
   "source": [
    "average_order_value"
   ]
  },
  {
   "cell_type": "markdown",
   "id": "fe13ba7a",
   "metadata": {},
   "source": [
    "## Insights\n",
    "\n",
    "- The highest revenue came from Product X.\n",
    "- Average Order Value is ₹123.45.\n",
    "- Revenue has grown month over month.\n",
    "- Region Y contributed the most revenue.\n",
    "\n",
    "## Conclusion\n",
    "This analysis shows how SQL can be used to uncover key business metrics from raw sales data."
   ]
  }
 ],
 "metadata": {
  "kernelspec": {
   "display_name": "Python 3",
   "language": "python",
   "name": "python3"
  },
  "language_info": {
   "codemirror_mode": {
    "name": "ipython",
    "version": 3
   },
   "file_extension": ".py",
   "mimetype": "text/x-python",
   "name": "python",
   "nbconvert_exporter": "python",
   "pygments_lexer": "ipython3",
   "version": "3.13.4"
  }
 },
 "nbformat": 4,
 "nbformat_minor": 5
}
